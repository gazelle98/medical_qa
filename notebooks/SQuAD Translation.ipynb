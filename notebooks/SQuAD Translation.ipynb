{
 "cells": [
  {
   "cell_type": "code",
   "execution_count": null,
   "metadata": {},
   "outputs": [],
   "source": [
    "import json\n",
    "import pandas as pd\n",
    "import numpy as np\n",
    "from googletrans import Translator\n",
    "import re"
   ]
  },
  {
   "cell_type": "markdown",
   "metadata": {},
   "source": [
    "## Importing SQuAD Dataset"
   ]
  },
  {
   "cell_type": "markdown",
   "metadata": {},
   "source": [
    "This dataset is imported from the official release of SQuAD.\n",
    "In cell below, we are trying to convert json files to desired csv files. "
   ]
  },
  {
   "cell_type": "code",
   "execution_count": null,
   "metadata": {},
   "outputs": [],
   "source": [
    "f1 = open('../data/raw/train-v1.1.json')  # This is SQuAD version 1 dataset\n",
    "data1 = json.load(f1)['data']\n",
    "df1 = pd.DataFrame(columns=['id', 'question', 'answer', 'title', 'context'])"
   ]
  },
  {
   "cell_type": "code",
   "execution_count": null,
   "metadata": {},
   "outputs": [],
   "source": [
    "i = 0\n",
    "for row in data1:\n",
    "    title = row['title']\n",
    "    paragraphs = row['paragraphs']\n",
    "    for paragraph in paragraphs:\n",
    "        context = paragraph['context']\n",
    "        qas = paragraph['qas']\n",
    "        for qa in qas:\n",
    "            answer = qa['answers'][0]['text']\n",
    "            question = qa['question']\n",
    "            idd = qa['id']\n",
    "            df1.loc[i] = [idd, question, answer, title, context]\n",
    "            i += 1"
   ]
  },
  {
   "cell_type": "code",
   "execution_count": null,
   "metadata": {},
   "outputs": [],
   "source": [
    "df1.to_csv('../data/processed/squad_v1.csv')"
   ]
  },
  {
   "cell_type": "code",
   "execution_count": null,
   "metadata": {},
   "outputs": [],
   "source": [
    "f2 = open('../data/raw/train-v2.0_1.json')  # This is SQuAD version 2 dataset\n",
    "data2 = json.load(f2)['data']\n",
    "df2 = pd.DataFrame(columns=['id', 'question', 'answer', 'title', 'context', 'is_impossible'])"
   ]
  },
  {
   "cell_type": "code",
   "execution_count": null,
   "metadata": {},
   "outputs": [],
   "source": [
    "i = 0\n",
    "for row in data2:\n",
    "    title = row['title']\n",
    "    paragraphs = row['paragraphs']\n",
    "    for paragraph in paragraphs:\n",
    "        context = paragraph['context']\n",
    "        qas = paragraph['qas']\n",
    "        for qa in qas:\n",
    "            is_impossible = qa['is_impossible']\n",
    "            if is_impossible:\n",
    "                answer = None\n",
    "            else:\n",
    "                answer = qa['answers'][0]['text']\n",
    "            question = qa['question']\n",
    "            idd = qa['id']\n",
    "            df2.loc[i] = [idd, question, answer, title, context, is_impossible]\n",
    "            i += 1"
   ]
  },
  {
   "cell_type": "code",
   "execution_count": null,
   "metadata": {},
   "outputs": [],
   "source": [
    "df2.to_csv('../data/processed/squad_v2.csv') "
   ]
  },
  {
   "cell_type": "markdown",
   "metadata": {},
   "source": [
    "## Translation"
   ]
  },
  {
   "cell_type": "code",
   "execution_count": null,
   "metadata": {},
   "outputs": [],
   "source": [
    "translator = Translator(service_urls=['translate.google.com'])\n",
    "text = 'University of Notre Dame'\n",
    "translator.translate(text=text, src='en', dest='fa').text  # just for test"
   ]
  },
  {
   "cell_type": "code",
   "execution_count": null,
   "metadata": {},
   "outputs": [],
   "source": [
    "df1 = pd.read_csv('../data/processed/squad_v1.csv', index_col=0)"
   ]
  },
  {
   "cell_type": "code",
   "execution_count": null,
   "metadata": {},
   "outputs": [],
   "source": [
    "df1.info()"
   ]
  },
  {
   "cell_type": "code",
   "execution_count": null,
   "metadata": {},
   "outputs": [],
   "source": [
    "for i, v in df1.iterrows():\n",
    "    try:\n",
    "        df1.loc[i, 'question_fa'] = translator.translate(\n",
    "            text=v['question'], src='en', dest='fa').text\n",
    "        df1.loc[i, 'answer_fa'] = translator.translate(\n",
    "            text=v['answer'], src='en', dest='fa').text\n",
    "        df1.loc[i, 'title_fa'] = translator.translate(\n",
    "            text=v['title'].replace('_', ' '), src='en', dest='fa').text\n",
    "        df1.loc[i, 'context_fa'] = translator.translate(\n",
    "            text=v['context'], src='en', dest='fa').text\n",
    "    except Exception:\n",
    "        skipped_ids.append(i)\n",
    "        print(i, end=' ')\n",
    "\n",
    "df1.to_csv('../data/processed/squad_v1_translated.csv')"
   ]
  },
  {
   "cell_type": "markdown",
   "metadata": {},
   "source": [
    "The difference between two versions of SQuAD dataset is the addition field, called *is_impossible* and it is not translatable. So there is no need to translate the second version of the dataset."
   ]
  }
 ],
 "metadata": {
  "kernelspec": {
   "display_name": "Python 3.8.2 64-bit",
   "language": "python",
   "name": "python38264bit5215c3dd178b4ce88da7cb9dfe26b6c7"
  },
  "language_info": {
   "codemirror_mode": {
    "name": "ipython",
    "version": 3
   },
   "file_extension": ".py",
   "mimetype": "text/x-python",
   "name": "python",
   "nbconvert_exporter": "python",
   "pygments_lexer": "ipython3",
   "version": "3.8.10"
  }
 },
 "nbformat": 4,
 "nbformat_minor": 4
}
